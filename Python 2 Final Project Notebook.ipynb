{
 "cells": [
  {
   "cell_type": "markdown",
   "id": "af380604",
   "metadata": {},
   "source": [
    "# Final Project"
   ]
  },
  {
   "cell_type": "code",
   "execution_count": 3,
   "id": "9a47c722",
   "metadata": {},
   "outputs": [],
   "source": [
    "import matplotlib.pyplot as plt\n",
    "import numpy as np\n",
    "import pandas as pd\n",
    "from matplotlib import style"
   ]
  },
  {
   "cell_type": "code",
   "execution_count": 4,
   "id": "8e015808",
   "metadata": {},
   "outputs": [
    {
     "data": {
      "text/html": [
       "<div>\n",
       "<style scoped>\n",
       "    .dataframe tbody tr th:only-of-type {\n",
       "        vertical-align: middle;\n",
       "    }\n",
       "\n",
       "    .dataframe tbody tr th {\n",
       "        vertical-align: top;\n",
       "    }\n",
       "\n",
       "    .dataframe thead th {\n",
       "        text-align: right;\n",
       "    }\n",
       "</style>\n",
       "<table border=\"1\" class=\"dataframe\">\n",
       "  <thead>\n",
       "    <tr style=\"text-align: right;\">\n",
       "      <th></th>\n",
       "      <th>Date</th>\n",
       "      <th>Country/Region</th>\n",
       "      <th>Confirmed</th>\n",
       "      <th>Deaths</th>\n",
       "      <th>Recovered</th>\n",
       "      <th>Active</th>\n",
       "      <th>New cases</th>\n",
       "      <th>New deaths</th>\n",
       "      <th>New recovered</th>\n",
       "      <th>WHO Region</th>\n",
       "    </tr>\n",
       "  </thead>\n",
       "  <tbody>\n",
       "    <tr>\n",
       "      <th>0</th>\n",
       "      <td>2020-01-22</td>\n",
       "      <td>Afghanistan</td>\n",
       "      <td>0</td>\n",
       "      <td>0</td>\n",
       "      <td>0</td>\n",
       "      <td>0</td>\n",
       "      <td>0</td>\n",
       "      <td>0</td>\n",
       "      <td>0</td>\n",
       "      <td>Eastern Mediterranean</td>\n",
       "    </tr>\n",
       "    <tr>\n",
       "      <th>1</th>\n",
       "      <td>2020-01-22</td>\n",
       "      <td>Albania</td>\n",
       "      <td>0</td>\n",
       "      <td>0</td>\n",
       "      <td>0</td>\n",
       "      <td>0</td>\n",
       "      <td>0</td>\n",
       "      <td>0</td>\n",
       "      <td>0</td>\n",
       "      <td>Europe</td>\n",
       "    </tr>\n",
       "    <tr>\n",
       "      <th>2</th>\n",
       "      <td>2020-01-22</td>\n",
       "      <td>Algeria</td>\n",
       "      <td>0</td>\n",
       "      <td>0</td>\n",
       "      <td>0</td>\n",
       "      <td>0</td>\n",
       "      <td>0</td>\n",
       "      <td>0</td>\n",
       "      <td>0</td>\n",
       "      <td>Africa</td>\n",
       "    </tr>\n",
       "    <tr>\n",
       "      <th>3</th>\n",
       "      <td>2020-01-22</td>\n",
       "      <td>Andorra</td>\n",
       "      <td>0</td>\n",
       "      <td>0</td>\n",
       "      <td>0</td>\n",
       "      <td>0</td>\n",
       "      <td>0</td>\n",
       "      <td>0</td>\n",
       "      <td>0</td>\n",
       "      <td>Europe</td>\n",
       "    </tr>\n",
       "    <tr>\n",
       "      <th>4</th>\n",
       "      <td>2020-01-22</td>\n",
       "      <td>Angola</td>\n",
       "      <td>0</td>\n",
       "      <td>0</td>\n",
       "      <td>0</td>\n",
       "      <td>0</td>\n",
       "      <td>0</td>\n",
       "      <td>0</td>\n",
       "      <td>0</td>\n",
       "      <td>Africa</td>\n",
       "    </tr>\n",
       "    <tr>\n",
       "      <th>...</th>\n",
       "      <td>...</td>\n",
       "      <td>...</td>\n",
       "      <td>...</td>\n",
       "      <td>...</td>\n",
       "      <td>...</td>\n",
       "      <td>...</td>\n",
       "      <td>...</td>\n",
       "      <td>...</td>\n",
       "      <td>...</td>\n",
       "      <td>...</td>\n",
       "    </tr>\n",
       "    <tr>\n",
       "      <th>35151</th>\n",
       "      <td>2020-07-27</td>\n",
       "      <td>West Bank and Gaza</td>\n",
       "      <td>10621</td>\n",
       "      <td>78</td>\n",
       "      <td>3752</td>\n",
       "      <td>6791</td>\n",
       "      <td>152</td>\n",
       "      <td>2</td>\n",
       "      <td>0</td>\n",
       "      <td>Eastern Mediterranean</td>\n",
       "    </tr>\n",
       "    <tr>\n",
       "      <th>35152</th>\n",
       "      <td>2020-07-27</td>\n",
       "      <td>Western Sahara</td>\n",
       "      <td>10</td>\n",
       "      <td>1</td>\n",
       "      <td>8</td>\n",
       "      <td>1</td>\n",
       "      <td>0</td>\n",
       "      <td>0</td>\n",
       "      <td>0</td>\n",
       "      <td>Africa</td>\n",
       "    </tr>\n",
       "    <tr>\n",
       "      <th>35153</th>\n",
       "      <td>2020-07-27</td>\n",
       "      <td>Yemen</td>\n",
       "      <td>1691</td>\n",
       "      <td>483</td>\n",
       "      <td>833</td>\n",
       "      <td>375</td>\n",
       "      <td>10</td>\n",
       "      <td>4</td>\n",
       "      <td>36</td>\n",
       "      <td>Eastern Mediterranean</td>\n",
       "    </tr>\n",
       "    <tr>\n",
       "      <th>35154</th>\n",
       "      <td>2020-07-27</td>\n",
       "      <td>Zambia</td>\n",
       "      <td>4552</td>\n",
       "      <td>140</td>\n",
       "      <td>2815</td>\n",
       "      <td>1597</td>\n",
       "      <td>71</td>\n",
       "      <td>1</td>\n",
       "      <td>465</td>\n",
       "      <td>Africa</td>\n",
       "    </tr>\n",
       "    <tr>\n",
       "      <th>35155</th>\n",
       "      <td>2020-07-27</td>\n",
       "      <td>Zimbabwe</td>\n",
       "      <td>2704</td>\n",
       "      <td>36</td>\n",
       "      <td>542</td>\n",
       "      <td>2126</td>\n",
       "      <td>192</td>\n",
       "      <td>2</td>\n",
       "      <td>24</td>\n",
       "      <td>Africa</td>\n",
       "    </tr>\n",
       "  </tbody>\n",
       "</table>\n",
       "<p>35156 rows × 10 columns</p>\n",
       "</div>"
      ],
      "text/plain": [
       "             Date      Country/Region  Confirmed  Deaths  Recovered  Active  \\\n",
       "0      2020-01-22         Afghanistan          0       0          0       0   \n",
       "1      2020-01-22             Albania          0       0          0       0   \n",
       "2      2020-01-22             Algeria          0       0          0       0   \n",
       "3      2020-01-22             Andorra          0       0          0       0   \n",
       "4      2020-01-22              Angola          0       0          0       0   \n",
       "...           ...                 ...        ...     ...        ...     ...   \n",
       "35151  2020-07-27  West Bank and Gaza      10621      78       3752    6791   \n",
       "35152  2020-07-27      Western Sahara         10       1          8       1   \n",
       "35153  2020-07-27               Yemen       1691     483        833     375   \n",
       "35154  2020-07-27              Zambia       4552     140       2815    1597   \n",
       "35155  2020-07-27            Zimbabwe       2704      36        542    2126   \n",
       "\n",
       "       New cases  New deaths  New recovered             WHO Region  \n",
       "0              0           0              0  Eastern Mediterranean  \n",
       "1              0           0              0                 Europe  \n",
       "2              0           0              0                 Africa  \n",
       "3              0           0              0                 Europe  \n",
       "4              0           0              0                 Africa  \n",
       "...          ...         ...            ...                    ...  \n",
       "35151        152           2              0  Eastern Mediterranean  \n",
       "35152          0           0              0                 Africa  \n",
       "35153         10           4             36  Eastern Mediterranean  \n",
       "35154         71           1            465                 Africa  \n",
       "35155        192           2             24                 Africa  \n",
       "\n",
       "[35156 rows x 10 columns]"
      ]
     },
     "execution_count": 4,
     "metadata": {},
     "output_type": "execute_result"
    }
   ],
   "source": [
    "#Importing the data and readingng it\n",
    "data = pd.read_csv(\"covid_country_stats.csv\")\n",
    "data"
   ]
  },
  {
   "cell_type": "markdown",
   "id": "611cc28b",
   "metadata": {},
   "source": [
    "### Statistical Summary"
   ]
  },
  {
   "cell_type": "code",
   "execution_count": 5,
   "id": "73731532",
   "metadata": {},
   "outputs": [
    {
     "name": "stdout",
     "output_type": "stream",
     "text": [
      "The total number of recorded deaths by Covid is 43384903.0\n"
     ]
    }
   ],
   "source": [
    "# Sum of Deaths\n",
    "data=data.astype({\"Deaths\":float})\n",
    "data_deaths = data[\"Deaths\"].sum()\n",
    "print(\"The total number of recorded deaths by Covid is\", data_deaths)"
   ]
  },
  {
   "cell_type": "code",
   "execution_count": 6,
   "id": "f1488b5a",
   "metadata": {},
   "outputs": [
    {
     "name": "stdout",
     "output_type": "stream",
     "text": [
      "The average number of active cases in the overal period from January 2020 to July 2020 is 11284.43\n"
     ]
    }
   ],
   "source": [
    "# Average number of active cases\n",
    "data = data.astype({\"Active\":float})\n",
    "data_active = data[\"Active\"].mean()\n",
    "data_active = round(data_active, 2)\n",
    "print(\"The average number of active cases in the overal period from January 2020 to July 2020 is\", data_active)"
   ]
  },
  {
   "cell_type": "markdown",
   "id": "38f484f5",
   "metadata": {},
   "source": [
    "### Relationships"
   ]
  },
  {
   "cell_type": "code",
   "execution_count": 7,
   "id": "3ac880f0",
   "metadata": {},
   "outputs": [
    {
     "name": "stdout",
     "output_type": "stream",
     "text": [
      "This is the percentages of the average death from covid compared to the lowest values which is Liechtenstein\n",
      "\n",
      "Country/Region\n",
      "Albania                   4.920692e+03\n",
      "Andorra                   4.675002e+03\n",
      "Armenia                   2.335260e+04\n",
      "Austria                   6.154313e+04\n",
      "Azerbaijan                1.231207e+04\n",
      "Belarus                   2.447501e+04\n",
      "Belgium                   8.307581e+05\n",
      "Bosnia and Herzegovina    1.411466e+04\n",
      "Bulgaria                  1.521897e+04\n",
      "Croatia                   8.941383e+03\n",
      "Cyprus                    1.691380e+03\n",
      "Czechia                   2.876208e+04\n",
      "Denmark                   5.224313e+04\n",
      "Estonia                   5.884485e+03\n",
      "Finland                   2.615346e+04\n",
      "France                    2.628039e+06\n",
      "Georgia                   1.091380e+03\n",
      "Germany                   7.511400e+05\n",
      "Greece                    1.656466e+04\n",
      "Greenland                 0.000000e+00\n",
      "Holy See                  0.000000e+00\n",
      "Hungary                   4.401123e+04\n",
      "Iceland                   9.836211e+02\n",
      "Ireland                   1.396104e+05\n",
      "Israel                    2.726467e+04\n",
      "Italy                     3.196309e+06\n",
      "Kazakhstan                1.260432e+04\n",
      "Kosovo                    4.507761e+03\n",
      "Kyrgyzstan                1.291294e+04\n",
      "Latvia                    2.118966e+03\n",
      "Liechtenstein             1.000000e+02\n",
      "Lithuania                 6.050865e+03\n",
      "Luxembourg                1.002069e+04\n",
      "Malta                     6.594831e+02\n",
      "Moldova                   3.292760e+04\n",
      "Monaco                    3.663795e+02\n",
      "Montenegro                1.188794e+03\n",
      "Netherlands               5.364778e+05\n",
      "North Macedonia           1.830604e+04\n",
      "Norway                    2.212415e+04\n",
      "Poland                    1.017397e+05\n",
      "Portugal                  1.263820e+05\n",
      "Romania                   1.207164e+05\n",
      "Russia                    5.339528e+05\n",
      "San Marino                4.384485e+03\n",
      "Serbia                    2.489311e+04\n",
      "Slovakia                  2.320691e+03\n",
      "Slovenia                  9.763797e+03\n",
      "Spain                     2.614682e+06\n",
      "Sweden                    3.869941e+05\n",
      "Switzerland               1.791880e+05\n",
      "Tajikistan                3.375002e+03\n",
      "Turkey                    4.017726e+05\n",
      "Ukraine                   7.348969e+04\n",
      "United Kingdom            3.446359e+06\n",
      "Uzbekistan                2.532760e+03\n",
      "Name: Deaths, dtype: float64\n"
     ]
    }
   ],
   "source": [
    "# Average number of deaths by country in Europe\n",
    "data_europe_deaths = (data[data[\"WHO Region\"] == \"Europe\"].groupby([\"Country/Region\"])[\"Deaths\"].mean()/ 0.617021) * 100\n",
    "print(\"This is the percentages of the average death from covid compared to the lowest values which is Liechtenstein\")\n",
    "print()\n",
    "print(data_europe_deaths)"
   ]
  },
  {
   "cell_type": "code",
   "execution_count": 8,
   "id": "b6df076c",
   "metadata": {},
   "outputs": [
    {
     "name": "stdout",
     "output_type": "stream",
     "text": [
      "Country/Region\n",
      "Madagascar         9697\n",
      "Senegal            9764\n",
      "Ethiopia          14547\n",
      "Cote d'Ivoire     15655\n",
      "Cameroon          17110\n",
      "Kenya             17975\n",
      "Algeria           27973\n",
      "Ghana             33624\n",
      "Nigeria           41180\n",
      "South Africa     452529\n",
      "Name: New cases, dtype: int64 Country/Region\n",
      "Bolivia        71181\n",
      "Ecuador        84274\n",
      "Canada        116458\n",
      "Argentina     167416\n",
      "Colombia      257101\n",
      "Chile         347923\n",
      "Peru          389717\n",
      "Mexico        395489\n",
      "Brazil       2442375\n",
      "US           4290258\n",
      "Name: New cases, dtype: int64\n"
     ]
    }
   ],
   "source": [
    "#Top 10 confirmed cases Americas vs Africa\n",
    "data_confrimed_americas = data[data[\"WHO Region\"] == \"Americas\"].groupby([\"Country/Region\"])[\"New cases\"].sum()\n",
    "data_confrimed_asia = data[data[\"WHO Region\"] == \"Africa\"].groupby([\"Country/Region\"])[\"New cases\"].sum()\n",
    "print(data_confrimed_asia.sort_values().tail(10), data_confrimed_americas.sort_values().tail(10))\n"
   ]
  },
  {
   "cell_type": "code",
   "execution_count": 9,
   "id": "ae9fb1c4",
   "metadata": {},
   "outputs": [
    {
     "name": "stdout",
     "output_type": "stream",
     "text": [
      "Country/Region\n",
      "Antigua and Barbuda                      4487\n",
      "Argentina                             4450658\n",
      "Bahamas                                 12100\n",
      "Barbados                                10652\n",
      "Belize                                   2636\n",
      "Bolivia                               2170351\n",
      "Brazil                               89524967\n",
      "Canada                                9356551\n",
      "Chile                                16935654\n",
      "Colombia                              6893122\n",
      "Costa Rica                             347151\n",
      "Cuba                                   216346\n",
      "Dominica                                 2059\n",
      "Dominican Republic                    2495433\n",
      "Ecuador                               4678496\n",
      "El Salvador                            453036\n",
      "Grenada                                  2466\n",
      "Guatemala                             1273708\n",
      "Guyana                                  19089\n",
      "Haiti                                  333181\n",
      "Honduras                              1228583\n",
      "Jamaica                                 61392\n",
      "Mexico                               14946202\n",
      "Nicaragua                              137545\n",
      "Panama                                2378126\n",
      "Paraguay                               156373\n",
      "Peru                                 19263916\n",
      "Saint Kitts and Nevis                    1772\n",
      "Saint Lucia                              2236\n",
      "Saint Vincent and the Grenadines         2771\n",
      "Suriname                                32247\n",
      "Trinidad and Tobago                     14967\n",
      "US                                  224345948\n",
      "Uruguay                                 94742\n",
      "Venezuela                              412231\n",
      "Name: Confirmed, dtype: int64\n"
     ]
    }
   ],
   "source": [
    "\n",
    "data_americas_confirmed = data[data[\"WHO Region\"] == \"Americas\"].groupby([\"Country/Region\"])[\"Confirmed\"].sum()\n",
    "print(data_americas_confirmed)"
   ]
  },
  {
   "cell_type": "markdown",
   "id": "5459683c",
   "metadata": {},
   "source": [
    "### Visualizations"
   ]
  },
  {
   "cell_type": "code",
   "execution_count": 10,
   "id": "8018d305",
   "metadata": {},
   "outputs": [
    {
     "data": {
      "image/png": "[encoded data removed]",
      "text/plain": [
       "<Figure size 720x720 with 1 Axes>"
      ]
     },
     "metadata": {},
     "output_type": "display_data"
    }
   ],
   "source": [
    "# 1st visualization \n",
    "\n",
    "# Isolate the sum of death numbers by European Region\n",
    "data_europe_deaths = data[data[\"WHO Region\"] == \"Europe\"].groupby([\"Country/Region\"])[\"Deaths\"].sum() \n",
    "# I ploted the tail(5) of the sorted values because the .sort_values function starts from low and ends high \n",
    "x = plt.pie(data_europe_deaths.sort_values().tail(5), labels = data_europe_deaths.sort_values().tail(5).index,autopct=\"%.2f %%\", pctdistance=0.5)\n",
    "fig = plt.gcf()\n",
    "fig.set_size_inches(10,10) # Here I configured the plot to be bigger and read more easily\n",
    "plt.title(\"Top Five European Countries by Death Percentage\")\n",
    "plt.style.use('ggplot')\n",
    "plt.show()"
   ]
  },
  {
   "cell_type": "code",
   "execution_count": 11,
   "id": "f9f3a11c",
   "metadata": {},
   "outputs": [
    {
     "data": {
      "image/png": "[encoded data removed]",
      "text/plain": [
       "<Figure size 720x720 with 1 Axes>"
      ]
     },
     "metadata": {},
     "output_type": "display_data"
    }
   ],
   "source": [
    "# 2nd Visualization\n",
    "\n",
    "# Getting the confirmed cases and dates in its own section to islate\n",
    "us = data[data[\"Country/Region\"] == \"US\"].groupby([\"Date\"])[\"Confirmed\"].sum()\n",
    "uk = data[data[\"Country/Region\"] == \"United Kingdom\"].groupby([\"Date\"])[\"Confirmed\"].sum() \n",
    "ind = ger = data[data[\"Country/Region\"] == \"India\"].groupby([\"Date\"])[\"Confirmed\"].sum() \n",
    "\n",
    "# Plotting the 3 countries by the new datafram\n",
    "plot1, = plt.plot(us.index, us.values)\n",
    "plot2, = plt.plot(uk.index, uk.values)\n",
    "plot3, = plt.plot(ind.index, ind.values)\n",
    "\n",
    "# Formatting the graph properly\n",
    "plt.xticks(np.linspace(0,187,8)[:-1], ('Jan', 'Feb', \"Mar\", \"Apr\", \"May\", \"Jun\", \"Jul\")) # I broke down the x-axis to months instead of days\n",
    "plt.legend(handles=[plot1, plot2, plot3],labels=[\"US\", \"UK\", \"India\"])\n",
    "plt.xlabel(\"Month (2020)\")\n",
    "plt.ylabel(\"Confirmed Cases (Millions)\")\n",
    "plt.title(\"Total Confirmed Cases in US, UK and India\")\n",
    "plt.style.use('ggplot')\n",
    "fig = plt.gcf()\n",
    "fig.set_size_inches(10,10)\n",
    "plt.show()"
   ]
  },
  {
   "cell_type": "markdown",
   "id": "7f8799c0",
   "metadata": {},
   "source": [
    "### Conclusion"
   ]
  },
  {
   "cell_type": "markdown",
   "id": "af081d6d",
   "metadata": {},
   "source": [
    "For the final project I decided to choose the covid 19 data set because I felt that it had the most real world applications due to the ongoing debate in the media about the “science and statistics” that govern the politics regarding the pandemic. The summary statistics that I chose to explore were the total number of deaths and the average number of active cases per country. The relationships that I chose for the exploratory section of the assignment was the association between the average number of deaths by country in Europe and the total number of confirmed cases by countries in Americas. I decided to break the relationships down via the $.groupby()$ function by WHO Region because I think it was the best way to show the relationship between the countries and the metrics that I chose to explore. Furthermore I chose to plot both the top five countries by death percentage in Europe by sorting the values of this group and taking the top five by using the $.tail(5)$ function. For the second visualization I chose to create a line graph of three countries having the dates sectioned by month on the x-axis and the total number of confirmed cases in millions. I believe that this is the best representation to show the evolution of the confirmed cases by country because it can be applied to show the change in cases by the month which could be used in different modeling applications. Overall, I think my analysis of the data set gives a comprehensive picture of the key points of the data and is easy to understand and follow when trying to visualize the information."
   ]
  }
 ],
 "metadata": {
  "kernelspec": {
   "display_name": "Python 3 (ipykernel)",
   "language": "python",
   "name": "python3"
  },
  "language_info": {
   "codemirror_mode": {
    "name": "ipython",
    "version": 3
   },
   "file_extension": ".py",
   "mimetype": "text/x-python",
   "name": "python",
   "nbconvert_exporter": "python",
   "pygments_lexer": "ipython3",
   "version": "3.9.7"
  }
 },
 "nbformat": 4,
 "nbformat_minor": 5
}
